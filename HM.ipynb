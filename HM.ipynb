{
  "nbformat": 4,
  "nbformat_minor": 0,
  "metadata": {
    "colab": {
      "provenance": []
    },
    "kernelspec": {
      "name": "python3",
      "display_name": "Python 3"
    },
    "language_info": {
      "name": "python"
    }
  },
  "cells": [
    {
      "cell_type": "code",
      "execution_count": null,
      "metadata": {
        "id": "8ka7GZjvwW5y"
      },
      "outputs": [],
      "source": [
        "%matplotlib inline\n",
        "\n",
        "import pandas as pd\n",
        "import pylab\n",
        "import numpy as np\n",
        "import sklearn\n",
        "from sklearn import linear_model\n",
        "import sklearn.preprocessing as preprocessing\n",
        "import sklearn.metrics as metrics\n",
        "import matplotlib.pyplot as plt\n",
        "from statsmodels.stats import proportion\n",
        "from sklearn.linear_model import SGDClassifier\n"
      ]
    },
    {
      "cell_type": "code",
      "source": [
        "# Các đặc trưng\n",
        "features = [\"Age\", \"Workclass\", \"fnlwgt\", \"Education\", \"Education-Num\", \"Martial Status\",\n",
        "            \"Occupation\", \"Relationship\", \"Race\", \"Sex\", \"Capital Gain\", \"Capital Loss\",\n",
        "            \"Hours per week\", \"Country\", \"Target\"]\n",
        "\n",
        "# Đường dẫn đến dữ liệu huấn luyện và kiểm tra\n",
        "train_url = 'https://archive.ics.uci.edu/ml/machine-learning-databases/adult/adult.data'\n",
        "test_url = 'https://archive.ics.uci.edu/ml/machine-learning-databases/adult/adult.test'\n",
        "\n"
      ],
      "metadata": {
        "id": "ENHtG1JGwg80"
      },
      "execution_count": null,
      "outputs": []
    },
    {
      "cell_type": "code",
      "source": [
        "# Đọc dữ liệu từ URL\n",
        "original_train = pd.read_csv(train_url, names=features, sep=r'\\s*,\\s*',\n",
        "                             engine='python', na_values=\"?\")\n",
        "original_test = pd.read_csv(test_url, names=features, sep=r'\\s*,\\s*',\n",
        "                            engine='python', na_values=\"?\", skiprows=1)\n",
        "\n",
        "# Gộp dữ liệu huấn luyện và kiểm tra để chuẩn hóa\n",
        "num_train = len(original_train)\n",
        "original = pd.concat([original_train, original_test])\n",
        "roc_original = original\n",
        "labels = original['Target']\n",
        "labels = labels.replace('<=50K', 0).replace('>50K', 1)\n",
        "labels = labels.replace('<=50K.', 0).replace('>50K.', 1)"
      ],
      "metadata": {
        "id": "A90zxrGCwlVC"
      },
      "execution_count": null,
      "outputs": []
    },
    {
      "cell_type": "code",
      "source": [
        "# Loại bỏ cột dư thừa\n",
        "del original[\"Education\"]\n",
        "\n",
        "# Loại bỏ biến mục tiêu\n",
        "del original[\"Target\"]"
      ],
      "metadata": {
        "id": "vTVlYLjYwoCM"
      },
      "execution_count": null,
      "outputs": []
    },
    {
      "cell_type": "code",
      "source": [
        "def data_transform(df):\n",
        "    \"\"\"Chuẩn hóa các đặc trưng.\"\"\"\n",
        "    binary_data = pd.get_dummies(df)\n",
        "    feature_cols = binary_data[binary_data.columns[:-2]]\n",
        "    scaler = preprocessing.StandardScaler()\n",
        "    data = pd.DataFrame(scaler.fit_transform(feature_cols), columns=feature_cols.columns)\n",
        "    return data\n",
        "\n",
        "data = data_transform(original)\n",
        "train_data = data[:num_train]\n",
        "train_labels = labels[:num_train]\n",
        "test_data = data[num_train:]\n",
        "test_labels = labels[num_train:]\n",
        "\n",
        "# Huấn luyện mô hình với SGDClassifier\n",
        "clf = SGDClassifier(loss='log', learning_rate='constant', eta0=1.5, max_iter=100, tol=1e-3)\n",
        "clf.fit(train_data, train_labels)\n",
        "print(clf.n_iter_)\n",
        "\n",
        "# Dự đoán và tính xác suất dự đoán\n",
        "predictions = clf.predict(test_data)\n",
        "scores = clf.predict_proba(test_data)[:, 1]"
      ],
      "metadata": {
        "id": "q8Y_JhZywqNk",
        "colab": {
          "base_uri": "https://localhost:8080/"
        },
        "outputId": "cc54b159-2fc3-491a-ed02-a926410aec76",
        "collapsed": true
      },
      "execution_count": null,
      "outputs": [
        {
          "output_type": "stream",
          "name": "stderr",
          "text": [
            "/usr/local/lib/python3.10/dist-packages/sklearn/linear_model/_stochastic_gradient.py:163: FutureWarning: The loss 'log' was deprecated in v1.1 and will be removed in version 1.3. Use `loss='log_loss'` which is equivalent.\n",
            "  warnings.warn(\n"
          ]
        },
        {
          "output_type": "stream",
          "name": "stdout",
          "text": [
            "6\n"
          ]
        }
      ]
    },
    {
      "cell_type": "code",
      "source": [
        "# Tạo DataFrame cho các dự đoán và nhãn thực tế\n",
        "d = {'target': test_labels.values,\n",
        "     'score': scores,\n",
        "     'prediction': predictions,\n",
        "     'race': original_test['Race'],\n",
        "     'gender': original_test['Sex'],\n",
        "     'age': original_test['Age'],\n",
        "     'workclass': original_test['Workclass'],\n",
        "     'fnlwgt': original_test['fnlwgt'],\n",
        "     'Education-Num': original_test['Education-Num'],\n",
        "     'Martial Status': original_test['Martial Status'],\n",
        "     'Occupation': original_test['Occupation'],\n",
        "     'Relationship': original_test['Relationship'],\n",
        "     'Capital Gain': original_test['Capital Gain'],\n",
        "     'Capital Loss': original_test['Capital Loss'],\n",
        "     'Hours per week': original_test['Hours per week'],\n",
        "     'Country': original_test['Country']}"
      ],
      "metadata": {
        "id": "FgHnKqBiwt8i"
      },
      "execution_count": null,
      "outputs": []
    },
    {
      "cell_type": "code",
      "source": [
        "marginals = pd.DataFrame(data=d, columns=['target', 'score', 'prediction', 'race', 'gender', 'age', 'workclass', 'fnlwgt', 'Education-Num', 'Martial Status', 'Occupation', 'Relationship', 'Capital Gain', 'Capital Loss', 'Hours per week', 'Country'])\n",
        "print(marginals.head(20))\n",
        "\n",
        "count_1 = np.count_nonzero(predictions)\n",
        "percentages = [len(predictions) - count_1, count_1]\n",
        "\n",
        "count_2 = np.count_nonzero(test_labels.values)\n",
        "percentages_1 = [len(test_labels.values) - count_2, count_2]"
      ],
      "metadata": {
        "collapsed": true,
        "id": "XnPQuR3rw07b",
        "colab": {
          "base_uri": "https://localhost:8080/"
        },
        "outputId": "6e894344-ab15-4d46-8423-2f3cfadfeec1"
      },
      "execution_count": null,
      "outputs": [
        {
          "output_type": "stream",
          "name": "stdout",
          "text": [
            "    target         score  prediction                race  gender  age  \\\n",
            "0        0  9.999999e-01           1               Black    Male   25   \n",
            "1        0  1.000000e+00           1               White    Male   38   \n",
            "2        1  1.000000e+00           1               White    Male   28   \n",
            "3        1  1.000000e+00           1               Black    Male   44   \n",
            "4        0  1.648050e-11           0               White  Female   18   \n",
            "5        0  1.000000e+00           1               White    Male   34   \n",
            "6        0  1.000000e+00           1               Black    Male   29   \n",
            "7        1  1.000000e+00           1               White    Male   63   \n",
            "8        0  1.000000e+00           1               White  Female   24   \n",
            "9        0  1.000000e+00           1               White    Male   55   \n",
            "10       1  1.000000e+00           1               White    Male   65   \n",
            "11       0  1.000000e+00           1               White    Male   36   \n",
            "12       0  1.000000e+00           1               White  Female   26   \n",
            "13       0  1.000000e+00           1               White    Male   58   \n",
            "14       1  1.000000e+00           1               White    Male   48   \n",
            "15       1  1.000000e+00           1               White    Male   43   \n",
            "16       0  9.528651e-10           0               White    Male   20   \n",
            "17       0  1.000000e+00           1               White  Female   43   \n",
            "18       0  1.000000e+00           1               White  Female   37   \n",
            "19       1  1.672939e-07           0  Asian-Pac-Islander    Male   40   \n",
            "\n",
            "           workclass  fnlwgt  Education-Num      Martial Status  \\\n",
            "0            Private  226802              7       Never-married   \n",
            "1            Private   89814              9  Married-civ-spouse   \n",
            "2          Local-gov  336951             12  Married-civ-spouse   \n",
            "3            Private  160323             10  Married-civ-spouse   \n",
            "4                NaN  103497             10       Never-married   \n",
            "5            Private  198693              6       Never-married   \n",
            "6                NaN  227026              9       Never-married   \n",
            "7   Self-emp-not-inc  104626             15  Married-civ-spouse   \n",
            "8            Private  369667             10       Never-married   \n",
            "9            Private  104996              4  Married-civ-spouse   \n",
            "10           Private  184454              9  Married-civ-spouse   \n",
            "11       Federal-gov  212465             13  Married-civ-spouse   \n",
            "12           Private   82091              9       Never-married   \n",
            "13               NaN  299831              9  Married-civ-spouse   \n",
            "14           Private  279724              9  Married-civ-spouse   \n",
            "15           Private  346189             14  Married-civ-spouse   \n",
            "16         State-gov  444554             10       Never-married   \n",
            "17           Private  128354              9  Married-civ-spouse   \n",
            "18           Private   60548              9             Widowed   \n",
            "19           Private   85019             16  Married-civ-spouse   \n",
            "\n",
            "           Occupation   Relationship  Capital Gain  Capital Loss  \\\n",
            "0   Machine-op-inspct      Own-child             0             0   \n",
            "1     Farming-fishing        Husband             0             0   \n",
            "2     Protective-serv        Husband             0             0   \n",
            "3   Machine-op-inspct        Husband          7688             0   \n",
            "4                 NaN      Own-child             0             0   \n",
            "5       Other-service  Not-in-family             0             0   \n",
            "6                 NaN      Unmarried             0             0   \n",
            "7      Prof-specialty        Husband          3103             0   \n",
            "8       Other-service      Unmarried             0             0   \n",
            "9        Craft-repair        Husband             0             0   \n",
            "10  Machine-op-inspct        Husband          6418             0   \n",
            "11       Adm-clerical        Husband             0             0   \n",
            "12       Adm-clerical  Not-in-family             0             0   \n",
            "13                NaN        Husband             0             0   \n",
            "14  Machine-op-inspct        Husband          3103             0   \n",
            "15    Exec-managerial        Husband             0             0   \n",
            "16      Other-service      Own-child             0             0   \n",
            "17       Adm-clerical           Wife             0             0   \n",
            "18  Machine-op-inspct      Unmarried             0             0   \n",
            "19     Prof-specialty        Husband             0             0   \n",
            "\n",
            "    Hours per week        Country  \n",
            "0               40  United-States  \n",
            "1               50  United-States  \n",
            "2               40  United-States  \n",
            "3               40  United-States  \n",
            "4               30  United-States  \n",
            "5               30  United-States  \n",
            "6               40  United-States  \n",
            "7               32  United-States  \n",
            "8               40  United-States  \n",
            "9               10  United-States  \n",
            "10              40  United-States  \n",
            "11              40  United-States  \n",
            "12              39  United-States  \n",
            "13              35  United-States  \n",
            "14              48  United-States  \n",
            "15              50  United-States  \n",
            "16              25  United-States  \n",
            "17              30  United-States  \n",
            "18              20  United-States  \n",
            "19              45            NaN  \n"
          ]
        }
      ]
    },
    {
      "cell_type": "code",
      "source": [
        "labels = ['0', '1']\n",
        "colors = ['pink', 'violet']\n",
        "\n",
        "plt.subplot(1, 2, 1)\n",
        "plt.pie(percentages, labels=labels, colors=colors, autopct='%1.1f%%')\n",
        "plt.title('Predictions Pie Chart')\n",
        "plt.subplot(1, 2, 2)\n",
        "plt.pie(percentages_1, labels=labels, colors=colors, autopct='%1.1f%%')\n",
        "plt.title('Target Pie Chart')\n",
        "plt.show()\n",
        "\n",
        "# Tính toán và in độ chính xác của mô hình\n",
        "accuracy = np.mean(np.equal(predictions, test_labels.values)) * 100\n",
        "print(accuracy)"
      ],
      "metadata": {
        "colab": {
          "base_uri": "https://localhost:8080/",
          "height": 302
        },
        "collapsed": true,
        "id": "vCmrD_DJw1zr",
        "outputId": "6a18282a-bb75-4ac5-b90f-cb1e98a3db1c"
      },
      "execution_count": null,
      "outputs": [
        {
          "output_type": "display_data",
          "data": {
            "text/plain": [
              "<Figure size 640x480 with 2 Axes>"
            ],
            "image/png": "[encoded data removed]"
          },
          "metadata": {}
        },
        {
          "output_type": "stream",
          "name": "stdout",
          "text": [
            "34.389779497573855\n"
          ]
        }
      ]
    }
  ]
}